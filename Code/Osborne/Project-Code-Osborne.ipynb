{
 "cells": [
  {
   "cell_type": "markdown",
   "id": "ac6d6e01",
   "metadata": {
    "lines_to_next_cell": 2
   },
   "source": [
    "# Module 2 Analysis\n",
    "\n",
    "_Isaiah Osborne_"
   ]
  },
  {
   "cell_type": "markdown",
   "id": "03d70b31",
   "metadata": {},
   "source": [
    "In my analysis, I'm primarily looking at the effects of gender on earning potential in our dataset."
   ]
  },
  {
   "cell_type": "markdown",
   "id": "fae73299",
   "metadata": {},
   "source": [
    "\n",
    "## Import Libraries "
   ]
  },
  {
   "cell_type": "code",
   "execution_count": 2,
   "id": "6affcdae",
   "metadata": {},
   "outputs": [],
   "source": [
    "import pandas as pd\n",
    "import seaborn as sns\n",
    "import matplotlib.pyplot as plt\n",
    "import math\n",
    "\n",
    "sns.set_theme()"
   ]
  },
  {
   "cell_type": "markdown",
   "id": "5fd5322b",
   "metadata": {},
   "source": [
    "### Load Dataset "
   ]
  },
  {
   "cell_type": "code",
   "execution_count": 5,
   "id": "5944aa43",
   "metadata": {
    "lines_to_next_cell": 3
   },
   "outputs": [
    {
     "data": {
      "text/html": [
       "<div>\n",
       "<style scoped>\n",
       "    .dataframe tbody tr th:only-of-type {\n",
       "        vertical-align: middle;\n",
       "    }\n",
       "\n",
       "    .dataframe tbody tr th {\n",
       "        vertical-align: top;\n",
       "    }\n",
       "\n",
       "    .dataframe thead th {\n",
       "        text-align: right;\n",
       "    }\n",
       "</style>\n",
       "<table border=\"1\" class=\"dataframe\">\n",
       "  <thead>\n",
       "    <tr style=\"text-align: right;\">\n",
       "      <th></th>\n",
       "      <th>age</th>\n",
       "      <th>workclass</th>\n",
       "      <th>fnlwgt</th>\n",
       "      <th>education</th>\n",
       "      <th>education.num</th>\n",
       "      <th>marital.status</th>\n",
       "      <th>occupation</th>\n",
       "      <th>relationship</th>\n",
       "      <th>race</th>\n",
       "      <th>sex</th>\n",
       "      <th>capital.gain</th>\n",
       "      <th>capital.loss</th>\n",
       "      <th>hours.per.week</th>\n",
       "      <th>native.country</th>\n",
       "      <th>income</th>\n",
       "    </tr>\n",
       "  </thead>\n",
       "  <tbody>\n",
       "    <tr>\n",
       "      <th>0</th>\n",
       "      <td>90</td>\n",
       "      <td>?</td>\n",
       "      <td>77053</td>\n",
       "      <td>HS-grad</td>\n",
       "      <td>9</td>\n",
       "      <td>Widowed</td>\n",
       "      <td>?</td>\n",
       "      <td>Not-in-family</td>\n",
       "      <td>White</td>\n",
       "      <td>Female</td>\n",
       "      <td>0</td>\n",
       "      <td>4356</td>\n",
       "      <td>40</td>\n",
       "      <td>United-States</td>\n",
       "      <td>&lt;=50K</td>\n",
       "    </tr>\n",
       "    <tr>\n",
       "      <th>1</th>\n",
       "      <td>82</td>\n",
       "      <td>Private</td>\n",
       "      <td>132870</td>\n",
       "      <td>HS-grad</td>\n",
       "      <td>9</td>\n",
       "      <td>Widowed</td>\n",
       "      <td>Exec-managerial</td>\n",
       "      <td>Not-in-family</td>\n",
       "      <td>White</td>\n",
       "      <td>Female</td>\n",
       "      <td>0</td>\n",
       "      <td>4356</td>\n",
       "      <td>18</td>\n",
       "      <td>United-States</td>\n",
       "      <td>&lt;=50K</td>\n",
       "    </tr>\n",
       "    <tr>\n",
       "      <th>2</th>\n",
       "      <td>66</td>\n",
       "      <td>?</td>\n",
       "      <td>186061</td>\n",
       "      <td>Some-college</td>\n",
       "      <td>10</td>\n",
       "      <td>Widowed</td>\n",
       "      <td>?</td>\n",
       "      <td>Unmarried</td>\n",
       "      <td>Black</td>\n",
       "      <td>Female</td>\n",
       "      <td>0</td>\n",
       "      <td>4356</td>\n",
       "      <td>40</td>\n",
       "      <td>United-States</td>\n",
       "      <td>&lt;=50K</td>\n",
       "    </tr>\n",
       "    <tr>\n",
       "      <th>3</th>\n",
       "      <td>54</td>\n",
       "      <td>Private</td>\n",
       "      <td>140359</td>\n",
       "      <td>7th-8th</td>\n",
       "      <td>4</td>\n",
       "      <td>Divorced</td>\n",
       "      <td>Machine-op-inspct</td>\n",
       "      <td>Unmarried</td>\n",
       "      <td>White</td>\n",
       "      <td>Female</td>\n",
       "      <td>0</td>\n",
       "      <td>3900</td>\n",
       "      <td>40</td>\n",
       "      <td>United-States</td>\n",
       "      <td>&lt;=50K</td>\n",
       "    </tr>\n",
       "    <tr>\n",
       "      <th>4</th>\n",
       "      <td>41</td>\n",
       "      <td>Private</td>\n",
       "      <td>264663</td>\n",
       "      <td>Some-college</td>\n",
       "      <td>10</td>\n",
       "      <td>Separated</td>\n",
       "      <td>Prof-specialty</td>\n",
       "      <td>Own-child</td>\n",
       "      <td>White</td>\n",
       "      <td>Female</td>\n",
       "      <td>0</td>\n",
       "      <td>3900</td>\n",
       "      <td>40</td>\n",
       "      <td>United-States</td>\n",
       "      <td>&lt;=50K</td>\n",
       "    </tr>\n",
       "    <tr>\n",
       "      <th>...</th>\n",
       "      <td>...</td>\n",
       "      <td>...</td>\n",
       "      <td>...</td>\n",
       "      <td>...</td>\n",
       "      <td>...</td>\n",
       "      <td>...</td>\n",
       "      <td>...</td>\n",
       "      <td>...</td>\n",
       "      <td>...</td>\n",
       "      <td>...</td>\n",
       "      <td>...</td>\n",
       "      <td>...</td>\n",
       "      <td>...</td>\n",
       "      <td>...</td>\n",
       "      <td>...</td>\n",
       "    </tr>\n",
       "    <tr>\n",
       "      <th>32556</th>\n",
       "      <td>22</td>\n",
       "      <td>Private</td>\n",
       "      <td>310152</td>\n",
       "      <td>Some-college</td>\n",
       "      <td>10</td>\n",
       "      <td>Never-married</td>\n",
       "      <td>Protective-serv</td>\n",
       "      <td>Not-in-family</td>\n",
       "      <td>White</td>\n",
       "      <td>Male</td>\n",
       "      <td>0</td>\n",
       "      <td>0</td>\n",
       "      <td>40</td>\n",
       "      <td>United-States</td>\n",
       "      <td>&lt;=50K</td>\n",
       "    </tr>\n",
       "    <tr>\n",
       "      <th>32557</th>\n",
       "      <td>27</td>\n",
       "      <td>Private</td>\n",
       "      <td>257302</td>\n",
       "      <td>Assoc-acdm</td>\n",
       "      <td>12</td>\n",
       "      <td>Married-civ-spouse</td>\n",
       "      <td>Tech-support</td>\n",
       "      <td>Wife</td>\n",
       "      <td>White</td>\n",
       "      <td>Female</td>\n",
       "      <td>0</td>\n",
       "      <td>0</td>\n",
       "      <td>38</td>\n",
       "      <td>United-States</td>\n",
       "      <td>&lt;=50K</td>\n",
       "    </tr>\n",
       "    <tr>\n",
       "      <th>32558</th>\n",
       "      <td>40</td>\n",
       "      <td>Private</td>\n",
       "      <td>154374</td>\n",
       "      <td>HS-grad</td>\n",
       "      <td>9</td>\n",
       "      <td>Married-civ-spouse</td>\n",
       "      <td>Machine-op-inspct</td>\n",
       "      <td>Husband</td>\n",
       "      <td>White</td>\n",
       "      <td>Male</td>\n",
       "      <td>0</td>\n",
       "      <td>0</td>\n",
       "      <td>40</td>\n",
       "      <td>United-States</td>\n",
       "      <td>&gt;50K</td>\n",
       "    </tr>\n",
       "    <tr>\n",
       "      <th>32559</th>\n",
       "      <td>58</td>\n",
       "      <td>Private</td>\n",
       "      <td>151910</td>\n",
       "      <td>HS-grad</td>\n",
       "      <td>9</td>\n",
       "      <td>Widowed</td>\n",
       "      <td>Adm-clerical</td>\n",
       "      <td>Unmarried</td>\n",
       "      <td>White</td>\n",
       "      <td>Female</td>\n",
       "      <td>0</td>\n",
       "      <td>0</td>\n",
       "      <td>40</td>\n",
       "      <td>United-States</td>\n",
       "      <td>&lt;=50K</td>\n",
       "    </tr>\n",
       "    <tr>\n",
       "      <th>32560</th>\n",
       "      <td>22</td>\n",
       "      <td>Private</td>\n",
       "      <td>201490</td>\n",
       "      <td>HS-grad</td>\n",
       "      <td>9</td>\n",
       "      <td>Never-married</td>\n",
       "      <td>Adm-clerical</td>\n",
       "      <td>Own-child</td>\n",
       "      <td>White</td>\n",
       "      <td>Male</td>\n",
       "      <td>0</td>\n",
       "      <td>0</td>\n",
       "      <td>20</td>\n",
       "      <td>United-States</td>\n",
       "      <td>&lt;=50K</td>\n",
       "    </tr>\n",
       "  </tbody>\n",
       "</table>\n",
       "<p>32561 rows × 15 columns</p>\n",
       "</div>"
      ],
      "text/plain": [
       "       age workclass  fnlwgt     education  education.num      marital.status  \\\n",
       "0       90         ?   77053       HS-grad              9             Widowed   \n",
       "1       82   Private  132870       HS-grad              9             Widowed   \n",
       "2       66         ?  186061  Some-college             10             Widowed   \n",
       "3       54   Private  140359       7th-8th              4            Divorced   \n",
       "4       41   Private  264663  Some-college             10           Separated   \n",
       "...    ...       ...     ...           ...            ...                 ...   \n",
       "32556   22   Private  310152  Some-college             10       Never-married   \n",
       "32557   27   Private  257302    Assoc-acdm             12  Married-civ-spouse   \n",
       "32558   40   Private  154374       HS-grad              9  Married-civ-spouse   \n",
       "32559   58   Private  151910       HS-grad              9             Widowed   \n",
       "32560   22   Private  201490       HS-grad              9       Never-married   \n",
       "\n",
       "              occupation   relationship   race     sex  capital.gain  \\\n",
       "0                      ?  Not-in-family  White  Female             0   \n",
       "1        Exec-managerial  Not-in-family  White  Female             0   \n",
       "2                      ?      Unmarried  Black  Female             0   \n",
       "3      Machine-op-inspct      Unmarried  White  Female             0   \n",
       "4         Prof-specialty      Own-child  White  Female             0   \n",
       "...                  ...            ...    ...     ...           ...   \n",
       "32556    Protective-serv  Not-in-family  White    Male             0   \n",
       "32557       Tech-support           Wife  White  Female             0   \n",
       "32558  Machine-op-inspct        Husband  White    Male             0   \n",
       "32559       Adm-clerical      Unmarried  White  Female             0   \n",
       "32560       Adm-clerical      Own-child  White    Male             0   \n",
       "\n",
       "       capital.loss  hours.per.week native.country income  \n",
       "0              4356              40  United-States  <=50K  \n",
       "1              4356              18  United-States  <=50K  \n",
       "2              4356              40  United-States  <=50K  \n",
       "3              3900              40  United-States  <=50K  \n",
       "4              3900              40  United-States  <=50K  \n",
       "...             ...             ...            ...    ...  \n",
       "32556             0              40  United-States  <=50K  \n",
       "32557             0              38  United-States  <=50K  \n",
       "32558             0              40  United-States   >50K  \n",
       "32559             0              40  United-States  <=50K  \n",
       "32560             0              20  United-States  <=50K  \n",
       "\n",
       "[32561 rows x 15 columns]"
      ]
     },
     "execution_count": 5,
     "metadata": {},
     "output_type": "execute_result"
    }
   ],
   "source": [
    "data = pd.read_csv(\"../../data/adult.csv\")\n",
    "data"
   ]
  },
  {
   "cell_type": "markdown",
   "id": "6fe73562",
   "metadata": {},
   "source": [
    "## Gender Representation\n",
    "\n",
    "Before we start looking at the effects on salary, we first need to look at the total number of men/women in the dataset."
   ]
  },
  {
   "cell_type": "code",
   "execution_count": null,
   "id": "34683e6b",
   "metadata": {},
   "outputs": [],
   "source": [
    "# https://stackoverflow.com/a/42409861\n",
    "basicGenderChart = sns.countplot(data=data, x=\"sex\")\n",
    "basicGenderChart.set_title(\"Basic Distribution for sex\")\n",
    "plt.show()"
   ]
  },
  {
   "attachments": {
    "image.png": {
     "image/png": "[encoded data removed]"
    }
   },
   "cell_type": "markdown",
   "id": "a2c89eb9",
   "metadata": {},
   "source": [
    "Ok, so it looks like our dataset is biased toward men, with about twice as many men as women. At first glance, this sounds problematic, but let's check the actual distribution.\n",
    "\n",
    "Since you can't tell if something is biased if you don't have a good idea of your \"ideal\" proportions, I found the original data here: <https://www.cdc.gov/nchs/data/statab/techap94.pdf>.\n",
    "\n",
    "![image.png](attachment:image.png)\n",
    "\n",
    "_(Page 60 of the report)_"
   ]
  },
  {
   "cell_type": "code",
   "execution_count": 29,
   "id": "9daab920",
   "metadata": {},
   "outputs": [
    {
     "name": "stdout",
     "output_type": "stream",
     "text": [
      "Census proportion of men: 48.81%\n"
     ]
    }
   ],
   "source": [
    "print(f\"Census proportion of men: {127076429/260340990:.2%}\")"
   ]
  },
  {
   "cell_type": "code",
   "execution_count": 26,
   "id": "0675fa69",
   "metadata": {},
   "outputs": [
    {
     "name": "stdout",
     "output_type": "stream",
     "text": [
      "Sample proportion of men: 66.92%\n"
     ]
    }
   ],
   "source": [
    "print(f\"Sample proportion of men: {len(data[data[\"sex\"] == \"Male\"]) / len(data):.2%}\")"
   ]
  },
  {
   "cell_type": "markdown",
   "id": "4a258b43",
   "metadata": {},
   "source": [
    "This is substantially different... Let's check and see if it breaks across race lines any too."
   ]
  },
  {
   "cell_type": "code",
   "execution_count": 28,
   "id": "f1d4ead6",
   "metadata": {},
   "outputs": [
    {
     "name": "stdout",
     "output_type": "stream",
     "text": [
      "['White' 'Black' 'Asian-Pac-Islander' 'Other' 'Amer-Indian-Eskimo']\n"
     ]
    }
   ],
   "source": [
    "print(data[\"race\"].unique())"
   ]
  },
  {
   "attachments": {
    "image.png": {
     "image/png": "[encoded data removed]"
    }
   },
   "cell_type": "markdown",
   "id": "0877af97",
   "metadata": {},
   "source": [
    "![image.png](attachment:image.png)\n",
    "\n",
    "The Census data here is imperfect; it doesn't have all of the races that the dataset does... But we can look at the main effects for white, black, and other."
   ]
  },
  {
   "cell_type": "markdown",
   "id": "bae095f9",
   "metadata": {},
   "source": [
    "#### White Men"
   ]
  },
  {
   "cell_type": "code",
   "execution_count": null,
   "id": "765ba00f",
   "metadata": {},
   "outputs": [
    {
     "name": "stdout",
     "output_type": "stream",
     "text": [
      "Census proportion of white men: 40.77%\n"
     ]
    }
   ],
   "source": [
    "print(f\"Census proportion of white men: {106138931/260340990:.2%}\")"
   ]
  },
  {
   "cell_type": "code",
   "execution_count": 32,
   "id": "8a4c2b2b",
   "metadata": {},
   "outputs": [
    {
     "name": "stdout",
     "output_type": "stream",
     "text": [
      "Sample proportion of white men: 58.89%\n"
     ]
    }
   ],
   "source": [
    "print(\n",
    "    f\"Sample proportion of white men: {len(data[(data[\"sex\"] == \"Male\") & (data[\"race\"] == \"White\") ]) / len(data):.2%}\"\n",
    ")"
   ]
  },
  {
   "cell_type": "markdown",
   "id": "e6a60ee6",
   "metadata": {},
   "source": [
    "It looks this dataset is pretty heavily biased toward white men..."
   ]
  },
  {
   "cell_type": "markdown",
   "id": "b6e7e126",
   "metadata": {},
   "source": [
    "#### Black Men"
   ]
  },
  {
   "cell_type": "code",
   "execution_count": 34,
   "id": "3a160453",
   "metadata": {},
   "outputs": [
    {
     "name": "stdout",
     "output_type": "stream",
     "text": [
      "Census proportion of black men: 5.95%\n"
     ]
    }
   ],
   "source": [
    "print(f\"Census proportion of black men: {15491454/260340990:.2%}\")"
   ]
  },
  {
   "cell_type": "code",
   "execution_count": null,
   "id": "c3689642",
   "metadata": {},
   "outputs": [
    {
     "name": "stdout",
     "output_type": "stream",
     "text": [
      "Sample proportion of white men: 4.82%\n"
     ]
    }
   ],
   "source": [
    "print(\n",
    "    f\"Sample proportion of black men: {len(data[(data[\"sex\"] == \"Male\") & (data[\"race\"] == \"Black\") ]) / len(data):.2%}\"\n",
    ")"
   ]
  },
  {
   "cell_type": "markdown",
   "id": "8902f453",
   "metadata": {},
   "source": [
    "It looks like black men are slightly underrepresented here, but this is not nearly as significant as the overrepresentation of white men."
   ]
  },
  {
   "cell_type": "markdown",
   "id": "e9467472",
   "metadata": {},
   "source": [
    "#### Other Races - Men"
   ]
  },
  {
   "cell_type": "code",
   "execution_count": null,
   "id": "567403e8",
   "metadata": {},
   "outputs": [
    {
     "name": "stdout",
     "output_type": "stream",
     "text": [
      "Census proportion of men of other races: 2.09%\n"
     ]
    }
   ],
   "source": [
    "print(f\"Census proportion of men from other races: {5446044/260340990:.2%}\")"
   ]
  },
  {
   "cell_type": "code",
   "execution_count": null,
   "id": "470967ae",
   "metadata": {},
   "outputs": [
    {
     "name": "stdout",
     "output_type": "stream",
     "text": [
      "Sample proportion of men from other races: 3.22%\n"
     ]
    }
   ],
   "source": [
    "print(\n",
    "    f\"Sample proportion of men from other races: {len(data[(data[\"sex\"] == \"Male\") &\n",
    "    ((data[\"race\"] != \"Black\") & (data[\"race\"] != \"White\"))])  / len(data):.2%}\"\n",
    ")"
   ]
  },
  {
   "cell_type": "markdown",
   "id": "3d431c6e",
   "metadata": {},
   "source": [
    "It looks like other races might be slightly overrepresented, but not as bad as the white men."
   ]
  },
  {
   "cell_type": "markdown",
   "id": "7153730d",
   "metadata": {},
   "source": [
    "### Gender Bias Conclusion\n",
    "\n",
    "Overall, it definitely appears that this dataset is biased on gender. In particular, white men are heavily overrepresented compared to the overall population."
   ]
  },
  {
   "cell_type": "markdown",
   "id": "bb0050f3",
   "metadata": {},
   "source": [
    "## Effects on Salary from Gender\n",
    "\n",
    "Let's see if a person's gender affects the likelihood of making more than $\\$50k$. But first of all, we'll want to start with our basic distribution for making more than $\\$50k$ - we have to be able to compare!"
   ]
  },
  {
   "cell_type": "code",
   "execution_count": 13,
   "id": "5b43ada2",
   "metadata": {},
   "outputs": [
    {
     "data": {
      "image/png": "[encoded data removed]",
      "text/plain": [
       "<Figure size 640x480 with 1 Axes>"
      ]
     },
     "metadata": {},
     "output_type": "display_data"
    }
   ],
   "source": [
    "# https://stackoverflow.com/a/42409861\n",
    "basicChart = sns.countplot(data=data, x=\"income\")\n",
    "basicChart.set_title(\"Basic Distribution for income\")\n",
    "plt.show()"
   ]
  },
  {
   "cell_type": "markdown",
   "id": "7d82f9e3",
   "metadata": {},
   "source": [
    "Ok, if we see any variables that don't have a similar distribution to this, then we'll know something's wrong!"
   ]
  },
  {
   "cell_type": "code",
   "execution_count": 14,
   "id": "4482257e",
   "metadata": {},
   "outputs": [
    {
     "data": {
      "image/png": "[encoded data removed]",
      "text/plain": [
       "<Figure size 640x480 with 1 Axes>"
      ]
     },
     "metadata": {},
     "output_type": "display_data"
    }
   ],
   "source": [
    "# https://stackoverflow.com/a/42409861\n",
    "genderChart = sns.countplot(data=data, x=\"income\", hue=\"sex\")\n",
    "genderChart.set_title(\"Basic Distribution for income\")\n",
    "plt.show()"
   ]
  },
  {
   "cell_type": "markdown",
   "id": "5a704eb0",
   "metadata": {},
   "source": [
    "Ok, this is already starting to look problematic. There are more men in both of the categories, which isn't necessarily problematic by itself (although it does raise questions of why women aren't working) but the ratios for these salaries are starting to look concerning. We can test this officially!"
   ]
  },
  {
   "cell_type": "markdown",
   "id": "7e31940b",
   "metadata": {},
   "source": [
    "### Testing for Gender Bias"
   ]
  },
  {
   "cell_type": "markdown",
   "id": "88b73172",
   "metadata": {},
   "source": [
    "(As a stats major in undergrad, I'm just glad that I can finally use this!)"
   ]
  },
  {
   "cell_type": "markdown",
   "id": "a4a643a3",
   "metadata": {},
   "source": [
    "<https://online.stat.psu.edu/stat415/lesson/9/9.4>\n",
    "\n",
    "We can formally test if men and women have different proportions by using this test statistic:\n",
    "\n",
    "$Z=\\dfrac{(\\hat{p}_{\\text{men}}-\\hat{p}_{\\text{women}})-0}{\\sqrt{\\hat{p}_{\\text{overall}}(1-\\hat{p}_{\\text{overall}})\\left(\\dfrac{1}{n_1}+\\dfrac{1}{n_2}\\right)}}$,\n",
    "\n"
   ]
  },
  {
   "cell_type": "markdown",
   "id": "a5533304",
   "metadata": {},
   "source": [
    "#### $\\hat{p}_\\text{overall}$"
   ]
  },
  {
   "cell_type": "code",
   "execution_count": 28,
   "id": "c54af0f1",
   "metadata": {},
   "outputs": [
    {
     "name": "stdout",
     "output_type": "stream",
     "text": [
      "Get the total number of people:  32561\n",
      "Get the total number of people in each category:\n",
      "income\n",
      "<=50K    24720\n",
      ">50K      7841\n",
      "Name: count, dtype: int64\n",
      "Get the total number of people making more than 50k:  7841\n",
      "Overall proportion making over >50k: 24.08%\n"
     ]
    }
   ],
   "source": [
    "# get the total number of people\n",
    "peopleCount = data[\"income\"].count()\n",
    "print(\"Get the total number of people: \", peopleCount)\n",
    "\n",
    "# Get the total number of people in each category\n",
    "print(\"Get the total number of people in each category:\")\n",
    "salaryCounts = data[\"income\"].value_counts()\n",
    "print(salaryCounts)\n",
    "\n",
    "# Get the total number of people making more than 50K\n",
    "peopleOver50K = salaryCounts[\">50K\"]\n",
    "print(\"Get the total number of people making more than 50k: \", peopleOver50K)\n",
    "\n",
    "# Get the overall proportion\n",
    "salaryProportion = peopleOver50K / peopleCount\n",
    "print(f\"Overall proportion making over >50k: {salaryProportion:.2%}\")"
   ]
  },
  {
   "cell_type": "markdown",
   "id": "105a2c23",
   "metadata": {},
   "source": [
    "#### $\\hat{p}_\\text{men}$"
   ]
  },
  {
   "cell_type": "code",
   "execution_count": 31,
   "id": "84406d95",
   "metadata": {},
   "outputs": [
    {
     "name": "stdout",
     "output_type": "stream",
     "text": [
      "Get the total number of people:  21790\n",
      "Get the total number of people in each category:\n",
      "income\n",
      "<=50K    15128\n",
      ">50K      6662\n",
      "Name: count, dtype: int64\n",
      "Get the total number of people making more than 50k:  6662\n",
      "Overall proportion of men making over >50k: 30.57%\n"
     ]
    }
   ],
   "source": [
    "menData = data[data[\"sex\"] == \"Male\"]\n",
    "\n",
    "# get the total number of people\n",
    "menCount = menData[\"income\"].count()\n",
    "print(\"Get the total number of people: \", menCount)\n",
    "\n",
    "# Get the total number of people in each category\n",
    "print(\"Get the total number of people in each category:\")\n",
    "menSalaryCounts = menData[\"income\"].value_counts()\n",
    "print(menSalaryCounts)\n",
    "\n",
    "# Get the total number of people making more than 50K\n",
    "menOver50K = menSalaryCounts[\">50K\"]\n",
    "print(\"Get the total number of people making more than 50k: \", menOver50K)\n",
    "\n",
    "# Get the overall proportion\n",
    "menSalaryProportion = menOver50K / menCount\n",
    "print(f\"Overall proportion of men making over >50k: {menSalaryProportion:.2%}\")"
   ]
  },
  {
   "cell_type": "markdown",
   "id": "386c8007",
   "metadata": {},
   "source": [
    "#### $\\hat{p}_\\text{women}$"
   ]
  },
  {
   "cell_type": "code",
   "execution_count": 32,
   "id": "91751bbc",
   "metadata": {},
   "outputs": [
    {
     "name": "stdout",
     "output_type": "stream",
     "text": [
      "Get the total number of people:  10771\n",
      "Get the total number of people in each category:\n",
      "income\n",
      "<=50K    9592\n",
      ">50K     1179\n",
      "Name: count, dtype: int64\n",
      "Get the total number of people making more than 50k:  1179\n",
      "Overall proportion of women making over >50k: 10.95%\n"
     ]
    }
   ],
   "source": [
    "womenData = data[data[\"sex\"] == \"Female\"]\n",
    "\n",
    "# get the total number of people\n",
    "womenCount = womenData[\"income\"].count()\n",
    "print(\"Get the total number of people: \", womenCount)\n",
    "\n",
    "# Get the total number of people in each category\n",
    "print(\"Get the total number of people in each category:\")\n",
    "womenSalaryCounts = womenData[\"income\"].value_counts()\n",
    "print(womenSalaryCounts)\n",
    "\n",
    "# Get the total number of people making more than 50K\n",
    "womenOver50K = womenSalaryCounts[\">50K\"]\n",
    "print(\"Get the total number of people making more than 50k: \", womenOver50K)\n",
    "\n",
    "# Get the overall proportion\n",
    "womenSalaryProportion = womenOver50K / womenCount\n",
    "print(f\"Overall proportion of women making over >50k: {womenSalaryProportion:.2%}\")"
   ]
  },
  {
   "cell_type": "markdown",
   "id": "04b306d9",
   "metadata": {},
   "source": [
    "Umm, this doesn't look great... Let's formally test it."
   ]
  },
  {
   "cell_type": "code",
   "execution_count": 35,
   "id": "bce0a8ea",
   "metadata": {},
   "outputs": [
    {
     "data": {
      "text/plain": [
       "38.972898531634414"
      ]
     },
     "execution_count": 35,
     "metadata": {},
     "output_type": "execute_result"
    }
   ],
   "source": [
    "Z = (menSalaryProportion - womenSalaryProportion) / math.sqrt(\n",
    "    salaryProportion * (1 - salaryProportion) * (1 / menCount + 1 / womenCount)\n",
    ")\n",
    "Z"
   ]
  },
  {
   "cell_type": "markdown",
   "id": "aeca0608",
   "metadata": {},
   "source": [
    "I don't even need to calculate a formal probability for this... men and women do not get high salaries at the same rate."
   ]
  },
  {
   "cell_type": "markdown",
   "id": "d11922ae",
   "metadata": {},
   "source": [
    "### But why?\n",
    "\n",
    "Maybe there's a different confounding variable here - maybe men and women have different rates of education, which affects earnings? Let's dig into this and see what other variables might be confounding us."
   ]
  },
  {
   "cell_type": "code",
   "execution_count": 6,
   "id": "de0f9914",
   "metadata": {},
   "outputs": [
    {
     "data": {
      "text/html": [
       "<div>\n",
       "<style scoped>\n",
       "    .dataframe tbody tr th:only-of-type {\n",
       "        vertical-align: middle;\n",
       "    }\n",
       "\n",
       "    .dataframe tbody tr th {\n",
       "        vertical-align: top;\n",
       "    }\n",
       "\n",
       "    .dataframe thead th {\n",
       "        text-align: right;\n",
       "    }\n",
       "</style>\n",
       "<table border=\"1\" class=\"dataframe\">\n",
       "  <thead>\n",
       "    <tr style=\"text-align: right;\">\n",
       "      <th></th>\n",
       "      <th>age</th>\n",
       "      <th>workclass</th>\n",
       "      <th>fnlwgt</th>\n",
       "      <th>education</th>\n",
       "      <th>education.num</th>\n",
       "      <th>marital.status</th>\n",
       "      <th>occupation</th>\n",
       "      <th>relationship</th>\n",
       "      <th>race</th>\n",
       "      <th>sex</th>\n",
       "      <th>capital.gain</th>\n",
       "      <th>capital.loss</th>\n",
       "      <th>hours.per.week</th>\n",
       "      <th>native.country</th>\n",
       "      <th>income</th>\n",
       "    </tr>\n",
       "  </thead>\n",
       "  <tbody>\n",
       "    <tr>\n",
       "      <th>0</th>\n",
       "      <td>90</td>\n",
       "      <td>?</td>\n",
       "      <td>77053</td>\n",
       "      <td>HS-grad</td>\n",
       "      <td>9</td>\n",
       "      <td>Widowed</td>\n",
       "      <td>?</td>\n",
       "      <td>Not-in-family</td>\n",
       "      <td>White</td>\n",
       "      <td>Female</td>\n",
       "      <td>0</td>\n",
       "      <td>4356</td>\n",
       "      <td>40</td>\n",
       "      <td>United-States</td>\n",
       "      <td>&lt;=50K</td>\n",
       "    </tr>\n",
       "    <tr>\n",
       "      <th>1</th>\n",
       "      <td>82</td>\n",
       "      <td>Private</td>\n",
       "      <td>132870</td>\n",
       "      <td>HS-grad</td>\n",
       "      <td>9</td>\n",
       "      <td>Widowed</td>\n",
       "      <td>Exec-managerial</td>\n",
       "      <td>Not-in-family</td>\n",
       "      <td>White</td>\n",
       "      <td>Female</td>\n",
       "      <td>0</td>\n",
       "      <td>4356</td>\n",
       "      <td>18</td>\n",
       "      <td>United-States</td>\n",
       "      <td>&lt;=50K</td>\n",
       "    </tr>\n",
       "    <tr>\n",
       "      <th>2</th>\n",
       "      <td>66</td>\n",
       "      <td>?</td>\n",
       "      <td>186061</td>\n",
       "      <td>Some-college</td>\n",
       "      <td>10</td>\n",
       "      <td>Widowed</td>\n",
       "      <td>?</td>\n",
       "      <td>Unmarried</td>\n",
       "      <td>Black</td>\n",
       "      <td>Female</td>\n",
       "      <td>0</td>\n",
       "      <td>4356</td>\n",
       "      <td>40</td>\n",
       "      <td>United-States</td>\n",
       "      <td>&lt;=50K</td>\n",
       "    </tr>\n",
       "    <tr>\n",
       "      <th>3</th>\n",
       "      <td>54</td>\n",
       "      <td>Private</td>\n",
       "      <td>140359</td>\n",
       "      <td>7th-8th</td>\n",
       "      <td>4</td>\n",
       "      <td>Divorced</td>\n",
       "      <td>Machine-op-inspct</td>\n",
       "      <td>Unmarried</td>\n",
       "      <td>White</td>\n",
       "      <td>Female</td>\n",
       "      <td>0</td>\n",
       "      <td>3900</td>\n",
       "      <td>40</td>\n",
       "      <td>United-States</td>\n",
       "      <td>&lt;=50K</td>\n",
       "    </tr>\n",
       "    <tr>\n",
       "      <th>4</th>\n",
       "      <td>41</td>\n",
       "      <td>Private</td>\n",
       "      <td>264663</td>\n",
       "      <td>Some-college</td>\n",
       "      <td>10</td>\n",
       "      <td>Separated</td>\n",
       "      <td>Prof-specialty</td>\n",
       "      <td>Own-child</td>\n",
       "      <td>White</td>\n",
       "      <td>Female</td>\n",
       "      <td>0</td>\n",
       "      <td>3900</td>\n",
       "      <td>40</td>\n",
       "      <td>United-States</td>\n",
       "      <td>&lt;=50K</td>\n",
       "    </tr>\n",
       "    <tr>\n",
       "      <th>...</th>\n",
       "      <td>...</td>\n",
       "      <td>...</td>\n",
       "      <td>...</td>\n",
       "      <td>...</td>\n",
       "      <td>...</td>\n",
       "      <td>...</td>\n",
       "      <td>...</td>\n",
       "      <td>...</td>\n",
       "      <td>...</td>\n",
       "      <td>...</td>\n",
       "      <td>...</td>\n",
       "      <td>...</td>\n",
       "      <td>...</td>\n",
       "      <td>...</td>\n",
       "      <td>...</td>\n",
       "    </tr>\n",
       "    <tr>\n",
       "      <th>32556</th>\n",
       "      <td>22</td>\n",
       "      <td>Private</td>\n",
       "      <td>310152</td>\n",
       "      <td>Some-college</td>\n",
       "      <td>10</td>\n",
       "      <td>Never-married</td>\n",
       "      <td>Protective-serv</td>\n",
       "      <td>Not-in-family</td>\n",
       "      <td>White</td>\n",
       "      <td>Male</td>\n",
       "      <td>0</td>\n",
       "      <td>0</td>\n",
       "      <td>40</td>\n",
       "      <td>United-States</td>\n",
       "      <td>&lt;=50K</td>\n",
       "    </tr>\n",
       "    <tr>\n",
       "      <th>32557</th>\n",
       "      <td>27</td>\n",
       "      <td>Private</td>\n",
       "      <td>257302</td>\n",
       "      <td>Assoc-acdm</td>\n",
       "      <td>12</td>\n",
       "      <td>Married-civ-spouse</td>\n",
       "      <td>Tech-support</td>\n",
       "      <td>Wife</td>\n",
       "      <td>White</td>\n",
       "      <td>Female</td>\n",
       "      <td>0</td>\n",
       "      <td>0</td>\n",
       "      <td>38</td>\n",
       "      <td>United-States</td>\n",
       "      <td>&lt;=50K</td>\n",
       "    </tr>\n",
       "    <tr>\n",
       "      <th>32558</th>\n",
       "      <td>40</td>\n",
       "      <td>Private</td>\n",
       "      <td>154374</td>\n",
       "      <td>HS-grad</td>\n",
       "      <td>9</td>\n",
       "      <td>Married-civ-spouse</td>\n",
       "      <td>Machine-op-inspct</td>\n",
       "      <td>Husband</td>\n",
       "      <td>White</td>\n",
       "      <td>Male</td>\n",
       "      <td>0</td>\n",
       "      <td>0</td>\n",
       "      <td>40</td>\n",
       "      <td>United-States</td>\n",
       "      <td>&gt;50K</td>\n",
       "    </tr>\n",
       "    <tr>\n",
       "      <th>32559</th>\n",
       "      <td>58</td>\n",
       "      <td>Private</td>\n",
       "      <td>151910</td>\n",
       "      <td>HS-grad</td>\n",
       "      <td>9</td>\n",
       "      <td>Widowed</td>\n",
       "      <td>Adm-clerical</td>\n",
       "      <td>Unmarried</td>\n",
       "      <td>White</td>\n",
       "      <td>Female</td>\n",
       "      <td>0</td>\n",
       "      <td>0</td>\n",
       "      <td>40</td>\n",
       "      <td>United-States</td>\n",
       "      <td>&lt;=50K</td>\n",
       "    </tr>\n",
       "    <tr>\n",
       "      <th>32560</th>\n",
       "      <td>22</td>\n",
       "      <td>Private</td>\n",
       "      <td>201490</td>\n",
       "      <td>HS-grad</td>\n",
       "      <td>9</td>\n",
       "      <td>Never-married</td>\n",
       "      <td>Adm-clerical</td>\n",
       "      <td>Own-child</td>\n",
       "      <td>White</td>\n",
       "      <td>Male</td>\n",
       "      <td>0</td>\n",
       "      <td>0</td>\n",
       "      <td>20</td>\n",
       "      <td>United-States</td>\n",
       "      <td>&lt;=50K</td>\n",
       "    </tr>\n",
       "  </tbody>\n",
       "</table>\n",
       "<p>32561 rows × 15 columns</p>\n",
       "</div>"
      ],
      "text/plain": [
       "       age workclass  fnlwgt     education  education.num      marital.status  \\\n",
       "0       90         ?   77053       HS-grad              9             Widowed   \n",
       "1       82   Private  132870       HS-grad              9             Widowed   \n",
       "2       66         ?  186061  Some-college             10             Widowed   \n",
       "3       54   Private  140359       7th-8th              4            Divorced   \n",
       "4       41   Private  264663  Some-college             10           Separated   \n",
       "...    ...       ...     ...           ...            ...                 ...   \n",
       "32556   22   Private  310152  Some-college             10       Never-married   \n",
       "32557   27   Private  257302    Assoc-acdm             12  Married-civ-spouse   \n",
       "32558   40   Private  154374       HS-grad              9  Married-civ-spouse   \n",
       "32559   58   Private  151910       HS-grad              9             Widowed   \n",
       "32560   22   Private  201490       HS-grad              9       Never-married   \n",
       "\n",
       "              occupation   relationship   race     sex  capital.gain  \\\n",
       "0                      ?  Not-in-family  White  Female             0   \n",
       "1        Exec-managerial  Not-in-family  White  Female             0   \n",
       "2                      ?      Unmarried  Black  Female             0   \n",
       "3      Machine-op-inspct      Unmarried  White  Female             0   \n",
       "4         Prof-specialty      Own-child  White  Female             0   \n",
       "...                  ...            ...    ...     ...           ...   \n",
       "32556    Protective-serv  Not-in-family  White    Male             0   \n",
       "32557       Tech-support           Wife  White  Female             0   \n",
       "32558  Machine-op-inspct        Husband  White    Male             0   \n",
       "32559       Adm-clerical      Unmarried  White  Female             0   \n",
       "32560       Adm-clerical      Own-child  White    Male             0   \n",
       "\n",
       "       capital.loss  hours.per.week native.country income  \n",
       "0              4356              40  United-States  <=50K  \n",
       "1              4356              18  United-States  <=50K  \n",
       "2              4356              40  United-States  <=50K  \n",
       "3              3900              40  United-States  <=50K  \n",
       "4              3900              40  United-States  <=50K  \n",
       "...             ...             ...            ...    ...  \n",
       "32556             0              40  United-States  <=50K  \n",
       "32557             0              38  United-States  <=50K  \n",
       "32558             0              40  United-States   >50K  \n",
       "32559             0              40  United-States  <=50K  \n",
       "32560             0              20  United-States  <=50K  \n",
       "\n",
       "[32561 rows x 15 columns]"
      ]
     },
     "execution_count": 6,
     "metadata": {},
     "output_type": "execute_result"
    }
   ],
   "source": [
    "data"
   ]
  },
  {
   "cell_type": "code",
   "execution_count": null,
   "id": "bb506124",
   "metadata": {},
   "outputs": [],
   "source": [
    "# https://stackoverflow.com/a/21711869\n",
    "# I know performance probably isn't stellar, but there's so few rows it should probably be ok...\n",
    "def categorizeIncome(row):\n",
    "    return row[\"income\"] == \">50K\"\n",
    "\n",
    "\n",
    "# this gives us 1 if it's high income; 0 otherwise\n",
    "data[\"incomeCategory\"] = data.apply(categorizeIncome, axis=1).astype(int)"
   ]
  },
  {
   "cell_type": "code",
   "execution_count": 18,
   "id": "27ae3b75",
   "metadata": {},
   "outputs": [
    {
     "data": {
      "text/html": [
       "<div>\n",
       "<style scoped>\n",
       "    .dataframe tbody tr th:only-of-type {\n",
       "        vertical-align: middle;\n",
       "    }\n",
       "\n",
       "    .dataframe tbody tr th {\n",
       "        vertical-align: top;\n",
       "    }\n",
       "\n",
       "    .dataframe thead th {\n",
       "        text-align: right;\n",
       "    }\n",
       "</style>\n",
       "<table border=\"1\" class=\"dataframe\">\n",
       "  <thead>\n",
       "    <tr style=\"text-align: right;\">\n",
       "      <th></th>\n",
       "      <th>education</th>\n",
       "      <th>sex</th>\n",
       "      <th>incomeCategory</th>\n",
       "    </tr>\n",
       "  </thead>\n",
       "  <tbody>\n",
       "    <tr>\n",
       "      <th>0</th>\n",
       "      <td>10th</td>\n",
       "      <td>Female</td>\n",
       "      <td>0.010169</td>\n",
       "    </tr>\n",
       "    <tr>\n",
       "      <th>1</th>\n",
       "      <td>10th</td>\n",
       "      <td>Male</td>\n",
       "      <td>0.092476</td>\n",
       "    </tr>\n",
       "    <tr>\n",
       "      <th>2</th>\n",
       "      <td>11th</td>\n",
       "      <td>Female</td>\n",
       "      <td>0.018519</td>\n",
       "    </tr>\n",
       "    <tr>\n",
       "      <th>3</th>\n",
       "      <td>11th</td>\n",
       "      <td>Male</td>\n",
       "      <td>0.069987</td>\n",
       "    </tr>\n",
       "    <tr>\n",
       "      <th>4</th>\n",
       "      <td>12th</td>\n",
       "      <td>Female</td>\n",
       "      <td>0.027778</td>\n",
       "    </tr>\n",
       "    <tr>\n",
       "      <th>5</th>\n",
       "      <td>12th</td>\n",
       "      <td>Male</td>\n",
       "      <td>0.100346</td>\n",
       "    </tr>\n",
       "    <tr>\n",
       "      <th>6</th>\n",
       "      <td>1st-4th</td>\n",
       "      <td>Female</td>\n",
       "      <td>0.000000</td>\n",
       "    </tr>\n",
       "    <tr>\n",
       "      <th>7</th>\n",
       "      <td>1st-4th</td>\n",
       "      <td>Male</td>\n",
       "      <td>0.049180</td>\n",
       "    </tr>\n",
       "    <tr>\n",
       "      <th>8</th>\n",
       "      <td>5th-6th</td>\n",
       "      <td>Female</td>\n",
       "      <td>0.023810</td>\n",
       "    </tr>\n",
       "    <tr>\n",
       "      <th>9</th>\n",
       "      <td>5th-6th</td>\n",
       "      <td>Male</td>\n",
       "      <td>0.056225</td>\n",
       "    </tr>\n",
       "    <tr>\n",
       "      <th>10</th>\n",
       "      <td>7th-8th</td>\n",
       "      <td>Female</td>\n",
       "      <td>0.006250</td>\n",
       "    </tr>\n",
       "    <tr>\n",
       "      <th>11</th>\n",
       "      <td>7th-8th</td>\n",
       "      <td>Male</td>\n",
       "      <td>0.080247</td>\n",
       "    </tr>\n",
       "    <tr>\n",
       "      <th>12</th>\n",
       "      <td>9th</td>\n",
       "      <td>Female</td>\n",
       "      <td>0.034722</td>\n",
       "    </tr>\n",
       "    <tr>\n",
       "      <th>13</th>\n",
       "      <td>9th</td>\n",
       "      <td>Male</td>\n",
       "      <td>0.059459</td>\n",
       "    </tr>\n",
       "    <tr>\n",
       "      <th>14</th>\n",
       "      <td>Assoc-acdm</td>\n",
       "      <td>Female</td>\n",
       "      <td>0.133017</td>\n",
       "    </tr>\n",
       "    <tr>\n",
       "      <th>15</th>\n",
       "      <td>Assoc-acdm</td>\n",
       "      <td>Male</td>\n",
       "      <td>0.323529</td>\n",
       "    </tr>\n",
       "    <tr>\n",
       "      <th>16</th>\n",
       "      <td>Assoc-voc</td>\n",
       "      <td>Female</td>\n",
       "      <td>0.134000</td>\n",
       "    </tr>\n",
       "    <tr>\n",
       "      <th>17</th>\n",
       "      <td>Assoc-voc</td>\n",
       "      <td>Male</td>\n",
       "      <td>0.333333</td>\n",
       "    </tr>\n",
       "    <tr>\n",
       "      <th>18</th>\n",
       "      <td>Bachelors</td>\n",
       "      <td>Female</td>\n",
       "      <td>0.209389</td>\n",
       "    </tr>\n",
       "    <tr>\n",
       "      <th>19</th>\n",
       "      <td>Bachelors</td>\n",
       "      <td>Male</td>\n",
       "      <td>0.503747</td>\n",
       "    </tr>\n",
       "    <tr>\n",
       "      <th>20</th>\n",
       "      <td>Doctorate</td>\n",
       "      <td>Female</td>\n",
       "      <td>0.581395</td>\n",
       "    </tr>\n",
       "    <tr>\n",
       "      <th>21</th>\n",
       "      <td>Doctorate</td>\n",
       "      <td>Male</td>\n",
       "      <td>0.782875</td>\n",
       "    </tr>\n",
       "    <tr>\n",
       "      <th>22</th>\n",
       "      <td>HS-grad</td>\n",
       "      <td>Female</td>\n",
       "      <td>0.066667</td>\n",
       "    </tr>\n",
       "    <tr>\n",
       "      <th>23</th>\n",
       "      <td>HS-grad</td>\n",
       "      <td>Male</td>\n",
       "      <td>0.203769</td>\n",
       "    </tr>\n",
       "    <tr>\n",
       "      <th>24</th>\n",
       "      <td>Masters</td>\n",
       "      <td>Female</td>\n",
       "      <td>0.333955</td>\n",
       "    </tr>\n",
       "    <tr>\n",
       "      <th>25</th>\n",
       "      <td>Masters</td>\n",
       "      <td>Male</td>\n",
       "      <td>0.657119</td>\n",
       "    </tr>\n",
       "    <tr>\n",
       "      <th>26</th>\n",
       "      <td>Preschool</td>\n",
       "      <td>Female</td>\n",
       "      <td>0.000000</td>\n",
       "    </tr>\n",
       "    <tr>\n",
       "      <th>27</th>\n",
       "      <td>Preschool</td>\n",
       "      <td>Male</td>\n",
       "      <td>0.000000</td>\n",
       "    </tr>\n",
       "    <tr>\n",
       "      <th>28</th>\n",
       "      <td>Prof-school</td>\n",
       "      <td>Female</td>\n",
       "      <td>0.456522</td>\n",
       "    </tr>\n",
       "    <tr>\n",
       "      <th>29</th>\n",
       "      <td>Prof-school</td>\n",
       "      <td>Male</td>\n",
       "      <td>0.787190</td>\n",
       "    </tr>\n",
       "    <tr>\n",
       "      <th>30</th>\n",
       "      <td>Some-college</td>\n",
       "      <td>Female</td>\n",
       "      <td>0.070207</td>\n",
       "    </tr>\n",
       "    <tr>\n",
       "      <th>31</th>\n",
       "      <td>Some-college</td>\n",
       "      <td>Male</td>\n",
       "      <td>0.265329</td>\n",
       "    </tr>\n",
       "  </tbody>\n",
       "</table>\n",
       "</div>"
      ],
      "text/plain": [
       "       education     sex  incomeCategory\n",
       "0           10th  Female        0.010169\n",
       "1           10th    Male        0.092476\n",
       "2           11th  Female        0.018519\n",
       "3           11th    Male        0.069987\n",
       "4           12th  Female        0.027778\n",
       "5           12th    Male        0.100346\n",
       "6        1st-4th  Female        0.000000\n",
       "7        1st-4th    Male        0.049180\n",
       "8        5th-6th  Female        0.023810\n",
       "9        5th-6th    Male        0.056225\n",
       "10       7th-8th  Female        0.006250\n",
       "11       7th-8th    Male        0.080247\n",
       "12           9th  Female        0.034722\n",
       "13           9th    Male        0.059459\n",
       "14    Assoc-acdm  Female        0.133017\n",
       "15    Assoc-acdm    Male        0.323529\n",
       "16     Assoc-voc  Female        0.134000\n",
       "17     Assoc-voc    Male        0.333333\n",
       "18     Bachelors  Female        0.209389\n",
       "19     Bachelors    Male        0.503747\n",
       "20     Doctorate  Female        0.581395\n",
       "21     Doctorate    Male        0.782875\n",
       "22       HS-grad  Female        0.066667\n",
       "23       HS-grad    Male        0.203769\n",
       "24       Masters  Female        0.333955\n",
       "25       Masters    Male        0.657119\n",
       "26     Preschool  Female        0.000000\n",
       "27     Preschool    Male        0.000000\n",
       "28   Prof-school  Female        0.456522\n",
       "29   Prof-school    Male        0.787190\n",
       "30  Some-college  Female        0.070207\n",
       "31  Some-college    Male        0.265329"
      ]
     },
     "execution_count": 18,
     "metadata": {},
     "output_type": "execute_result"
    }
   ],
   "source": [
    "educationGender = data.groupby([\"education\", \"sex\"])[\"incomeCategory\"].mean()\n",
    "educationGender = educationGender.reset_index()\n",
    "educationGender"
   ]
  },
  {
   "cell_type": "markdown",
   "id": "06a1e7b2",
   "metadata": {},
   "source": [
    "This gives us the percentage of people in each category making more than $\\$50K$. Let's visualize this..."
   ]
  },
  {
   "cell_type": "code",
   "execution_count": null,
   "id": "669282cd",
   "metadata": {},
   "outputs": [
    {
     "data": {
      "image/png": "[encoded data removed]",
      "text/plain": [
       "<Figure size 2000x1000 with 1 Axes>"
      ]
     },
     "metadata": {},
     "output_type": "display_data"
    }
   ],
   "source": [
    "plt.figure(figsize=(20, 10))\n",
    "educationGenderChart = sns.barplot(\n",
    "    educationGender, y=\"incomeCategory\", x=\"education\", hue=\"sex\"\n",
    ")\n",
    "educationGenderChart.set_title(\n",
    "    \"Percentage making more than 50K by gender and education level\"\n",
    ")\n",
    "educationGenderChart.set_xlabel(\"Education Level\")\n",
    "educationGenderChart.set_ylabel(\"% Making more than 50K\")\n",
    "plt.show()"
   ]
  },
  {
   "cell_type": "markdown",
   "id": "52a709a7",
   "metadata": {},
   "source": [
    "There's no category where women have a higher salary than men..."
   ]
  },
  {
   "cell_type": "code",
   "execution_count": null,
   "id": "46429bd3",
   "metadata": {},
   "outputs": [],
   "source": []
  }
 ],
 "metadata": {
  "jupytext": {
   "cell_metadata_filter": "-all",
   "main_language": "python",
   "notebook_metadata_filter": "-all"
  },
  "kernelspec": {
   "display_name": "Python 3",
   "language": "python",
   "name": "python3"
  },
  "language_info": {
   "codemirror_mode": {
    "name": "ipython",
    "version": 3
   },
   "file_extension": ".py",
   "mimetype": "text/x-python",
   "name": "python",
   "nbconvert_exporter": "python",
   "pygments_lexer": "ipython3",
   "version": "3.12.0"
  }
 },
 "nbformat": 4,
 "nbformat_minor": 5
}
